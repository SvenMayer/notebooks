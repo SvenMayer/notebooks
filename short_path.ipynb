{
 "cells": [
  {
   "cell_type": "markdown",
   "metadata": {
    "collapsed": true
   },
   "source": [
    "# Find the shortest path"
   ]
  },
  {
   "cell_type": "markdown",
   "metadata": {},
   "source": [
    "Described below is a short algorithm to find the shortest path on a checkerboard pattern to a specific cell."
   ]
  },
  {
   "cell_type": "code",
   "execution_count": 1,
   "metadata": {
    "collapsed": false
   },
   "outputs": [
    {
     "data": {
      "image/png": "[encoded data removed]",
      "text/plain": [
       "<matplotlib.figure.Figure at 0xb493d94c>"
      ]
     },
     "metadata": {},
     "output_type": "display_data"
    }
   ],
   "source": [
    "import matplotlib.pyplot as plt\n",
    "import numpy as np\n",
    "\n",
    "plt.hold(True)\n",
    "for ln in range(1, 5):\n",
    "    plt.plot((0, 5), (ln, ln), color=(0., 0., 0.))\n",
    "    plt.plot((ln, ln), (0, 5), color=(0., 0., 0.))\n",
    "for itm in range(0, 25):\n",
    "    if itm == 22:\n",
    "        plt.text(np.floor(itm/5)+0.3, itm%5 + 0.3, str(itm), color=(1., 0., 0.))\n",
    "    else:\n",
    "        plt.text(np.floor(itm/5)+0.3, itm%5 + 0.3, str(itm))\n",
    "plt.show()"
   ]
  },
  {
   "cell_type": "markdown",
   "metadata": {},
   "source": [
    "Fields 22 is adjacent to the exit from the gameboard. Any horizontal step and any vertical step takes one time unit. Therefore to reach the exti from fields 22 takes one time unit. Any field adjacent to 22 takes an extra time unit and so on."
   ]
  },
  {
   "cell_type": "markdown",
   "metadata": {},
   "source": [
    "## Python implementation"
   ]
  },
  {
   "cell_type": "markdown",
   "metadata": {},
   "source": [
    "Each cell is represented as a class that holds a reference to each adjacent cell."
   ]
  },
  {
   "cell_type": "code",
   "execution_count": 2,
   "metadata": {
    "collapsed": false
   },
   "outputs": [],
   "source": [
    "class Cell:\n",
    "    def __init__(self, number):\n",
    "        self.number = number\n",
    "        self.weight = 0\n",
    "        self.neighbors = []"
   ]
  },
  {
   "cell_type": "markdown",
   "metadata": {},
   "source": [
    "The gameboard is created by creating the cells and linking them so each cell knows its neighbors. Each cell in the middle has four neigbors; each cell on the edge has three neighbors; each corner cell has two neighbors."
   ]
  },
  {
   "cell_type": "code",
   "execution_count": 3,
   "metadata": {
    "collapsed": false
   },
   "outputs": [],
   "source": [
    "def create_gameboard():\n",
    "    gameboard = [Cell(i) for i in range(25)]\n",
    "    for i in range(25):\n",
    "        gameboard[i].number = i\n",
    "        if i % 5 != 4:\n",
    "            gameboard[i].neighbors.append(gameboard[i+1])\n",
    "        if i % 5 != 0:\n",
    "            gameboard[i].neighbors.append(gameboard[i-1])\n",
    "        if i >= 5:\n",
    "            gameboard[i].neighbors.append(gameboard[i-5])\n",
    "        if i < 20:\n",
    "            gameboard[i].neighbors.append(gameboard[i+5])\n",
    "    return gameboard"
   ]
  },
  {
   "cell_type": "markdown",
   "metadata": {},
   "source": [
    "To calculate the weights of each cell walk back from the end cell and increase the weight of each cell reached by one for each successive step."
   ]
  },
  {
   "cell_type": "code",
   "execution_count": 4,
   "metadata": {
    "collapsed": false
   },
   "outputs": [],
   "source": [
    "def calc_weights(end_points):\n",
    "    current_cells = end_points\n",
    "\n",
    "    step = 1\n",
    "    while len(current_cells):\n",
    "        next_cells = []\n",
    "        for cell in current_cells:\n",
    "            cell.weight = step\n",
    "            next_cells.extend([itm for itm in cell.neighbors\n",
    "                               if itm.weight == 0])\n",
    "        step += 1\n",
    "        current_cells = next_cells"
   ]
  },
  {
   "cell_type": "markdown",
   "metadata": {},
   "source": [
    "Get the end cells, and calculate the weight for the gameboard."
   ]
  },
  {
   "cell_type": "code",
   "execution_count": 5,
   "metadata": {
    "collapsed": false
   },
   "outputs": [],
   "source": [
    "gameboard = create_gameboard()\n",
    "end_cells = [cell for cell in gameboard if cell.number==22]\n",
    "calc_weights(end_cells)"
   ]
  },
  {
   "cell_type": "markdown",
   "metadata": {},
   "source": [
    "Plot the gameboard and instead of the cell numbers write the weight of each cell on the board."
   ]
  },
  {
   "cell_type": "code",
   "execution_count": 6,
   "metadata": {
    "collapsed": false
   },
   "outputs": [
    {
     "data": {
      "image/png": "[encoded data removed]",
      "text/plain": [
       "<matplotlib.figure.Figure at 0xb4923aac>"
      ]
     },
     "metadata": {},
     "output_type": "display_data"
    }
   ],
   "source": [
    "plt.hold(True)\n",
    "for ln in range(1, 5):\n",
    "    plt.plot((0, 5), (ln, ln), color=(0., 0., 0.))\n",
    "    plt.plot((ln, ln), (0, 5), color=(0., 0., 0.))\n",
    "for i in range(0, 25):\n",
    "    no = gameboard[i].number\n",
    "    if gameboard[i] in end_cells:\n",
    "        plt.text(np.floor(no/5)+0.3, no%5 + 0.3,\n",
    "                 str(gameboard[i].weight), color=(1., 0., 0.))\n",
    "    else:\n",
    "        plt.text(np.floor(no/5)+0.3, no%5 + 0.3,\n",
    "                 str(gameboard[i].weight))\n",
    "plt.show()"
   ]
  },
  {
   "cell_type": "markdown",
   "metadata": {},
   "source": [
    "## Non passable cells"
   ]
  },
  {
   "cell_type": "markdown",
   "metadata": {},
   "source": [
    "Some cells may not be passable (e.g. they are blocked by an object). If a cell cannot be passed it will be skipped when walking the the cells back from the end cells. The cells can simply be removed from the gameboard. Since constantly recreating the gameboard may be unncessarily difficult it may be easier to mark a cell as non passable and ignore those cells when walking the gameboard."
   ]
  },
  {
   "cell_type": "code",
   "execution_count": 7,
   "metadata": {
    "collapsed": false
   },
   "outputs": [],
   "source": [
    "class Cell:\n",
    "    def __init__(self, number):\n",
    "        self.number = number\n",
    "        self.weight = 0\n",
    "        self.neighbors = []\n",
    "        self.passable = True"
   ]
  },
  {
   "cell_type": "markdown",
   "metadata": {},
   "source": [
    "The new algorithm has to check if a cell is passable."
   ]
  },
  {
   "cell_type": "code",
   "execution_count": 8,
   "metadata": {
    "collapsed": true
   },
   "outputs": [],
   "source": [
    "def calc_weights(end_points):\n",
    "    current_cells = end_points\n",
    "\n",
    "    step = 1\n",
    "    while len(current_cells):\n",
    "        next_cells = []\n",
    "        for cell in current_cells:\n",
    "            cell.weight = step\n",
    "            next_cells.extend([itm for itm in cell.neighbors\n",
    "                               if (itm.weight == 0 and itm.passable == True)])\n",
    "        step += 1\n",
    "        current_cells = next_cells"
   ]
  },
  {
   "cell_type": "markdown",
   "metadata": {},
   "source": [
    "Create a new gameboard; set some cells to non passable and calculate the weights."
   ]
  },
  {
   "cell_type": "code",
   "execution_count": 9,
   "metadata": {
    "collapsed": false
   },
   "outputs": [],
   "source": [
    "gameboard = create_gameboard()\n",
    "for i in [5, 7, 8, 19, 17, 16]:\n",
    "    gameboard[i].passable = False\n",
    "end_cells = [cell for cell in gameboard if cell.number==22]\n",
    "calc_weights(end_cells)"
   ]
  },
  {
   "cell_type": "markdown",
   "metadata": {},
   "source": [
    "When drawing the gameboard leave non passable cells blank."
   ]
  },
  {
   "cell_type": "code",
   "execution_count": 10,
   "metadata": {
    "collapsed": false
   },
   "outputs": [
    {
     "data": {
      "image/png": "[encoded data removed]",
      "text/plain": [
       "<matplotlib.figure.Figure at 0xacd3c62c>"
      ]
     },
     "metadata": {},
     "output_type": "display_data"
    }
   ],
   "source": [
    "plt.hold(True)\n",
    "for ln in range(1, 5):\n",
    "    plt.plot((0, 5), (ln, ln), color=(0., 0., 0.))\n",
    "    plt.plot((ln, ln), (0, 5), color=(0., 0., 0.))\n",
    "for i in range(len(gameboard)):\n",
    "    if gameboard[i].passable == False:\n",
    "        continue\n",
    "    no = gameboard[i].number\n",
    "    if gameboard[i] in end_cells:\n",
    "        plt.text(np.floor(no/5)+0.3, no%5 + 0.3,\n",
    "                 str(gameboard[i].weight), color=(1., 0., 0.))\n",
    "    else:\n",
    "        plt.text(np.floor(no/5)+0.3, no%5 + 0.3,\n",
    "                 str(gameboard[i].weight))\n",
    "plt.show()"
   ]
  },
  {
   "cell_type": "markdown",
   "metadata": {},
   "source": [
    "## Fields with additional penalty"
   ]
  },
  {
   "cell_type": "markdown",
   "metadata": {},
   "source": [
    "Some fields may have an additional penalty. The penalty may be used to indicate fields that should not be transversed (i.e. fields where a gamepiece might be damaged). That penalty has to be added to the weight on top of the time units it takes to reach the exit. That way a shortest way can be found while making sure the shortest way goes around fields that should be avoided.\n",
    "\n",
    "The new Cell class holds the extra penalty."
   ]
  },
  {
   "cell_type": "code",
   "execution_count": 11,
   "metadata": {
    "collapsed": true
   },
   "outputs": [],
   "source": [
    "class Cell:\n",
    "    def __init__(self, number):\n",
    "        self.number = number\n",
    "        self.weight = 0\n",
    "        self.neighbors = []\n",
    "        self.passable = True\n",
    "        self.extra_penalty = 0"
   ]
  },
  {
   "cell_type": "markdown",
   "metadata": {},
   "source": [
    "Since each cell's weight is based on the number of steps the cell is from the end point, as well as the cell's extra penalty, as well as the extra penealties in the path between the cell and the end cell a cell's value can no longer be assigned solely based on the number of cells between the cell and the end cell. A longer path may yield a lower weight if the shorter path contains extra penalties.\n",
    "\n",
    "A cell's weight must be the lowest weight possible because the shortest possible path is sought."
   ]
  },
  {
   "cell_type": "code",
   "execution_count": 12,
   "metadata": {
    "collapsed": true
   },
   "outputs": [],
   "source": [
    "def calc_weights(end_points):\n",
    "    current_cells = end_points\n",
    "    for cell in current_cells:\n",
    "        cell.weight = 1 + cell.extra_penalty\n",
    "        \n",
    "    while len(current_cells):\n",
    "        next_cells = set()\n",
    "        for cell in current_cells:\n",
    "            for next_cell in cell.neighbors:\n",
    "                if next_cell.passable == False:\n",
    "                    continue\n",
    "                new_weight = cell.weight + next_cell.extra_penalty + 1\n",
    "                if new_weight < next_cell.weight or next_cell.weight == 0 :\n",
    "                    next_cell.weight = new_weight\n",
    "                    next_cells.add(next_cell)\n",
    "\n",
    "        current_cells = next_cells"
   ]
  },
  {
   "cell_type": "code",
   "execution_count": 13,
   "metadata": {
    "collapsed": true
   },
   "outputs": [],
   "source": [
    "gameboard = create_gameboard()\n",
    "for i in [5, 7, 8, 19, 17, 16]:\n",
    "    gameboard[i].passable = False\n",
    "gameboard[6].extra_penalty = 2\n",
    "end_cells = [itm for itm in gameboard\n",
    "             if itm.number==22 or itm.number==21]\n",
    "calc_weights(end_cells)"
   ]
  },
  {
   "cell_type": "markdown",
   "metadata": {},
   "source": [
    "Plot the gameboard and show the extra penalty in bracets."
   ]
  },
  {
   "cell_type": "code",
   "execution_count": 14,
   "metadata": {
    "collapsed": false
   },
   "outputs": [
    {
     "data": {
      "image/png": "[encoded data removed]",
      "text/plain": [
       "<matplotlib.figure.Figure at 0xb4940b6c>"
      ]
     },
     "metadata": {},
     "output_type": "display_data"
    }
   ],
   "source": [
    "plt.hold(True)\n",
    "for ln in range(1, 5):\n",
    "    plt.plot((0, 5), (ln, ln), color=(0., 0., 0.))\n",
    "    plt.plot((ln, ln), (0, 5), color=(0., 0., 0.))\n",
    "for i in range(len(gameboard)):\n",
    "    if gameboard[i].passable == False:\n",
    "        continue\n",
    "    no = gameboard[i].number\n",
    "    if gameboard[i] in end_cells:\n",
    "        plt.text(np.floor(no/5)+0.3, no%5 + 0.3, \"{0:d}({1:d})\".format(\n",
    "            gameboard[i].weight, gameboard[i].extra_penalty),\n",
    "                color=(1., 0., 0.))\n",
    "    else:\n",
    "        plt.text(np.floor(no/5)+0.3, no%5 + 0.3, \"{0:d}({1:d})\".format(\n",
    "            gameboard[i].weight, gameboard[i].extra_penalty))\n",
    "plt.show()"
   ]
  },
  {
   "cell_type": "markdown",
   "metadata": {},
   "source": [
    "## Example"
   ]
  },
  {
   "cell_type": "code",
   "execution_count": 15,
   "metadata": {
    "collapsed": true
   },
   "outputs": [],
   "source": [
    "gameboard = create_gameboard()\n",
    "for i in [16, 17, 18, 6, 7, 8, 9]:\n",
    "    gameboard[i].passable = False\n",
    "gameboard[20].extra_penalty = 10\n",
    "end_cells = [itm for itm in gameboard if itm.number==22]\n",
    "calc_weights(end_cells)"
   ]
  },
  {
   "cell_type": "code",
   "execution_count": 16,
   "metadata": {
    "collapsed": false
   },
   "outputs": [
    {
     "data": {
      "image/png": "[encoded data removed]",
      "text/plain": [
       "<matplotlib.figure.Figure at 0xacfd0c8c>"
      ]
     },
     "metadata": {},
     "output_type": "display_data"
    }
   ],
   "source": [
    "plt.hold(True)\n",
    "for ln in range(1, 5):\n",
    "    plt.plot((0, 5), (ln, ln), color=(0., 0., 0.))\n",
    "    plt.plot((ln, ln), (0, 5), color=(0., 0., 0.))\n",
    "for i in range(len(gameboard)):\n",
    "    if gameboard[i].passable == False:\n",
    "        continue\n",
    "    no = gameboard[i].number\n",
    "    if gameboard[i] in end_cells:\n",
    "        plt.text(np.floor(no/5)+0.3, no%5 + 0.3, \"{0:d}({1:d})\".format(\n",
    "            gameboard[i].weight, gameboard[i].extra_penalty),\n",
    "                color=(1., 0., 0.))\n",
    "    else:\n",
    "        plt.text(np.floor(no/5)+0.3, no%5 + 0.3, \"{0:d}({1:d})\".format(\n",
    "            gameboard[i].weight, gameboard[i].extra_penalty))\n",
    "plt.show()"
   ]
  }
 ],
 "metadata": {
  "anaconda-cloud": {},
  "kernelspec": {
   "display_name": "Python [default]",
   "language": "python",
   "name": "python3"
  },
  "language_info": {
   "codemirror_mode": {
    "name": "ipython",
    "version": 3
   },
   "file_extension": ".py",
   "mimetype": "text/x-python",
   "name": "python",
   "nbconvert_exporter": "python",
   "pygments_lexer": "ipython3",
   "version": "3.5.2"
  }
 },
 "nbformat": 4,
 "nbformat_minor": 1
}
