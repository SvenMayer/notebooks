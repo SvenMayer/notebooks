{
 "cells": [
  {
   "cell_type": "markdown",
   "metadata": {
    "collapsed": true
   },
   "source": [
    "# Find the shortest path"
   ]
  },
  {
   "cell_type": "markdown",
   "metadata": {},
   "source": [
    "The below figure shows a square board"
   ]
  },
  {
   "cell_type": "code",
   "execution_count": 2,
   "metadata": {
    "collapsed": false
   },
   "outputs": [
    {
     "data": {
      "image/png": "[encoded data removed]",
      "text/plain": [
       "<matplotlib.figure.Figure at 0xb3fed32c>"
      ]
     },
     "metadata": {},
     "output_type": "display_data"
    }
   ],
   "source": [
    "import matplotlib.pyplot as plt\n",
    "import numpy as np\n",
    "\n",
    "plt.hold(True)\n",
    "for ln in range(1, 5):\n",
    "    plt.plot((0, 5), (ln, ln), color=(0., 0., 0.))\n",
    "    plt.plot((ln, ln), (0, 5), color=(0., 0., 0.))\n",
    "for itm in range(0, 25):\n",
    "    plt.text(np.floor(itm/5)+0.3, itm%5 + 0.3, str(itm))\n",
    "plt.show()"
   ]
  },
  {
   "cell_type": "markdown",
   "metadata": {},
   "source": [
    "Fields 24 is adjacent to the exit from the gameboard. Any horizontal step and any vertical step takes one time unit. Therefore to reach the exti from fields 24 takes one time unit. Any field adjacent to 24 takes an extra time unit."
   ]
  },
  {
   "cell_type": "markdown",
   "metadata": {},
   "source": [
    "## Python implementation"
   ]
  },
  {
   "cell_type": "markdown",
   "metadata": {},
   "source": [
    "Each cell is represented as a class that holds a reference to each adjacent cell."
   ]
  },
  {
   "cell_type": "code",
   "execution_count": 35,
   "metadata": {
    "collapsed": false
   },
   "outputs": [],
   "source": [
    "class Cell:\n",
    "    def __init__(self):\n",
    "        self.number = -1\n",
    "        self.weight = 0\n",
    "        self.neighbors = []"
   ]
  },
  {
   "cell_type": "markdown",
   "metadata": {},
   "source": [
    "The gameboard is created by creating the cells and linking them."
   ]
  },
  {
   "cell_type": "code",
   "execution_count": 13,
   "metadata": {
    "collapsed": false
   },
   "outputs": [],
   "source": [
    "gameboard = [Cell() for i in range(25)]\n",
    "for i in range(25):\n",
    "    gameboard[i].number = i\n",
    "    if i % 5 != 4:\n",
    "        gameboard[i].neighbors.append(gameboard[i+1])\n",
    "    if i % 5 != 0:\n",
    "        gameboard[i].neighbors.append(gameboard[i-1])\n",
    "    if i >= 5:\n",
    "        gameboard[i].neighbors.append(gameboard[i-5])\n",
    "    if i < 20:\n",
    "        gameboard[i].neighbors.append(gameboard[i+5])"
   ]
  },
  {
   "cell_type": "markdown",
   "metadata": {},
   "source": [
    "The end point is cell 22."
   ]
  },
  {
   "cell_type": "code",
   "execution_count": 16,
   "metadata": {
    "collapsed": true
   },
   "outputs": [],
   "source": [
    "end_points = [cell for cell in gameboard if cell.number == 22]"
   ]
  },
  {
   "cell_type": "markdown",
   "metadata": {},
   "source": [
    "First all weights are zeroed."
   ]
  },
  {
   "cell_type": "code",
   "execution_count": 15,
   "metadata": {
    "collapsed": true
   },
   "outputs": [],
   "source": [
    "for i in range(len(gameboard)):\n",
    "    gameboard[i].weight = 0"
   ]
  },
  {
   "cell_type": "markdown",
   "metadata": {},
   "source": [
    "Then start at the end point and increase the weight of each adjacent cell by one."
   ]
  },
  {
   "cell_type": "code",
   "execution_count": 34,
   "metadata": {
    "collapsed": false
   },
   "outputs": [],
   "source": [
    "current_cells = end_points\n",
    "\n",
    "step = 1\n",
    "while len(current_cells):\n",
    "    next_cells = []\n",
    "    for cell in current_cells:\n",
    "        cell.weight = step\n",
    "        next_cells.extend([itm for itm in cell.neighbors\n",
    "                           if itm.weight == 0])\n",
    "    step += 1\n",
    "    current_cells = next_cells\n"
   ]
  },
  {
   "cell_type": "markdown",
   "metadata": {},
   "source": [
    "With those cells the gameboard can be redrawn showing the number of steps from each cell to the exit."
   ]
  },
  {
   "cell_type": "code",
   "execution_count": 22,
   "metadata": {
    "collapsed": false
   },
   "outputs": [
    {
     "data": {
      "image/png": "[encoded data removed]",
      "text/plain": [
       "<matplotlib.figure.Figure at 0xad04f6cc>"
      ]
     },
     "metadata": {},
     "output_type": "display_data"
    }
   ],
   "source": [
    "plt.hold(True)\n",
    "for ln in range(1, 5):\n",
    "    plt.plot((0, 5), (ln, ln), color=(0., 0., 0.))\n",
    "    plt.plot((ln, ln), (0, 5), color=(0., 0., 0.))\n",
    "for itm in range(0, 25):\n",
    "    plt.text(np.floor(itm/5)+0.3, itm%5 + 0.3, str(gameboard[itm].weight))\n",
    "plt.show()"
   ]
  },
  {
   "cell_type": "markdown",
   "metadata": {},
   "source": [
    "## Non passable cells"
   ]
  },
  {
   "cell_type": "markdown",
   "metadata": {},
   "source": [
    "If a cell cannot be passed it will not propagate. The cells can simply be removed from the gameboard, or marked as non passable and ignored by the propagation algorithm, the latter method is easier if cells are rather dynamically removed as the gameboard does not have to be relinked constantly."
   ]
  },
  {
   "cell_type": "code",
   "execution_count": 58,
   "metadata": {
    "collapsed": false
   },
   "outputs": [],
   "source": [
    "class Cell:\n",
    "    def __init__(self, number):\n",
    "        self.number = number\n",
    "        self.weight = 0\n",
    "        self.neighbors = []\n",
    "        self.passable = True"
   ]
  },
  {
   "cell_type": "markdown",
   "metadata": {},
   "source": [
    "The new algorithm has to check if a cell is passable."
   ]
  },
  {
   "cell_type": "code",
   "execution_count": 86,
   "metadata": {
    "collapsed": true
   },
   "outputs": [],
   "source": [
    "def calc_weights(end_points):\n",
    "    current_cells = end_points\n",
    "\n",
    "    step = 1\n",
    "    while len(current_cells):\n",
    "        next_cells = []\n",
    "        for cell in current_cells:\n",
    "            cell.weight = step\n",
    "            next_cells.extend([itm for itm in cell.neighbors\n",
    "                               if (itm.weight == 0 and itm.passable == True)])\n",
    "        step += 1\n",
    "        current_cells = next_cells"
   ]
  },
  {
   "cell_type": "markdown",
   "metadata": {},
   "source": [
    "Create a new gameboard with non passable cells."
   ]
  },
  {
   "cell_type": "code",
   "execution_count": 87,
   "metadata": {
    "collapsed": false
   },
   "outputs": [],
   "source": [
    "blocked_gameboard = [Cell(i) for i in range(25)]\n",
    "for i in [5, 7, 8, 19, 17, 16]:\n",
    "    blocked_gameboard[i].passable = False\n",
    "for i in range(len(blocked_gameboard)):\n",
    "    if i % 5 != 4:\n",
    "        blocked_gameboard[i].neighbors.append(blocked_gameboard[i+1])\n",
    "    if i % 5 != 0:\n",
    "        blocked_gameboard[i].neighbors.append(blocked_gameboard[i-1])\n",
    "    if i >= 5:\n",
    "        blocked_gameboard[i].neighbors.append(blocked_gameboard[i-5])\n",
    "    if i < 20:\n",
    "        blocked_gameboard[i].neighbors.append(blocked_gameboard[i+5])"
   ]
  },
  {
   "cell_type": "markdown",
   "metadata": {},
   "source": [
    "Caluclate the weights."
   ]
  },
  {
   "cell_type": "code",
   "execution_count": 89,
   "metadata": {
    "collapsed": false
   },
   "outputs": [],
   "source": [
    "calc_weights([itm for itm in blocked_gameboard if itm.number==22])"
   ]
  },
  {
   "cell_type": "markdown",
   "metadata": {},
   "source": [
    "And plot the new game board."
   ]
  },
  {
   "cell_type": "code",
   "execution_count": 90,
   "metadata": {
    "collapsed": false
   },
   "outputs": [
    {
     "data": {
      "image/png": "[encoded data removed]",
      "text/plain": [
       "<matplotlib.figure.Figure at 0xac9e106c>"
      ]
     },
     "metadata": {},
     "output_type": "display_data"
    }
   ],
   "source": [
    "plt.hold(True)\n",
    "for ln in range(1, 5):\n",
    "    plt.plot((0, 5), (ln, ln), color=(0., 0., 0.))\n",
    "    plt.plot((ln, ln), (0, 5), color=(0., 0., 0.))\n",
    "for i in range(len(blocked_gameboard)):\n",
    "    if blocked_gameboard[i].passable == False:\n",
    "        continue\n",
    "    itm = blocked_gameboard[i].number\n",
    "    plt.text(np.floor(itm/5)+0.3, itm%5 + 0.3, str(blocked_gameboard[i].weight))\n",
    "plt.show()"
   ]
  },
  {
   "cell_type": "markdown",
   "metadata": {},
   "source": [
    "## Fields with additional penalty"
   ]
  },
  {
   "cell_type": "markdown",
   "metadata": {},
   "source": [
    "Some fields may have an additional penalty. That penalty has to be added to the weight on top of the time units it takes to reach the exit."
   ]
  },
  {
   "cell_type": "code",
   "execution_count": 112,
   "metadata": {
    "collapsed": true
   },
   "outputs": [],
   "source": [
    "class Cell:\n",
    "    def __init__(self, number):\n",
    "        self.number = number\n",
    "        self.weight = 0\n",
    "        self.neighbors = []\n",
    "        self.passable = True\n",
    "        self.extra_penalty = 0"
   ]
  },
  {
   "cell_type": "code",
   "execution_count": 124,
   "metadata": {
    "collapsed": true
   },
   "outputs": [],
   "source": [
    "def calc_weights(end_points):\n",
    "    current_cells = end_points\n",
    "    for cell in current_cells:\n",
    "        cell.weight = 1 + cell.extra_penalty\n",
    "        \n",
    "    while len(current_cells):\n",
    "        next_cells = set()\n",
    "        for cell in current_cells:\n",
    "            for next_cell in cell.neighbors:\n",
    "                if next_cell.passable == False:\n",
    "                    continue\n",
    "                new_weight = cell.weight + next_cell.extra_penalty + 1\n",
    "                if new_weight < next_cell.weight or next_cell.weight == 0 :\n",
    "                    next_cell.weight = new_weight\n",
    "                    next_cells.add(next_cell)\n",
    "\n",
    "        current_cells = next_cells"
   ]
  },
  {
   "cell_type": "code",
   "execution_count": 139,
   "metadata": {
    "collapsed": true
   },
   "outputs": [],
   "source": [
    "weighted_gameboard = [Cell(i) for i in range(25)]\n",
    "for i in [5, 7, 8, 19, 17, 16]:\n",
    "    weighted_gameboard[i].passable = False\n",
    "for i in range(len(weighted_gameboard)):\n",
    "    if i % 5 != 4:\n",
    "        weighted_gameboard[i].neighbors.append(weighted_gameboard[i+1])\n",
    "    if i % 5 != 0:\n",
    "        weighted_gameboard[i].neighbors.append(weighted_gameboard[i-1])\n",
    "    if i >= 5:\n",
    "        weighted_gameboard[i].neighbors.append(weighted_gameboard[i-5])\n",
    "    if i < 20:\n",
    "        weighted_gameboard[i].neighbors.append(weighted_gameboard[i+5])\n",
    "weighted_gameboard[6].extra_penalty = 2"
   ]
  },
  {
   "cell_type": "code",
   "execution_count": 140,
   "metadata": {
    "collapsed": false
   },
   "outputs": [],
   "source": [
    "calc_weights([itm for itm in weighted_gameboard if itm.number==22 or itm.number==21])"
   ]
  },
  {
   "cell_type": "code",
   "execution_count": 142,
   "metadata": {
    "collapsed": false
   },
   "outputs": [
    {
     "data": {
      "image/png": "[encoded data removed]",
      "text/plain": [
       "<matplotlib.figure.Figure at 0xacbe9c6c>"
      ]
     },
     "metadata": {},
     "output_type": "display_data"
    }
   ],
   "source": [
    "plt.hold(True)\n",
    "for ln in range(1, 5):\n",
    "    plt.plot((0, 5), (ln, ln), color=(0., 0., 0.))\n",
    "    plt.plot((ln, ln), (0, 5), color=(0., 0., 0.))\n",
    "for i in range(len(weighted_gameboard)):\n",
    "    if weighted_gameboard[i].passable == False:\n",
    "        continue\n",
    "    itm = weighted_gameboard[i].number\n",
    "    plt.text(np.floor(itm/5)+0.3, itm%5 + 0.3, \"{0:d}({1:d})\".format(\n",
    "            weighted_gameboard[i].weight, weighted_gameboard[i].extra_penalty))\n",
    "plt.show()"
   ]
  },
  {
   "cell_type": "code",
   "execution_count": null,
   "metadata": {
    "collapsed": true
   },
   "outputs": [],
   "source": []
  }
 ],
 "metadata": {
  "anaconda-cloud": {},
  "kernelspec": {
   "display_name": "Python [default]",
   "language": "python",
   "name": "python3"
  },
  "language_info": {
   "codemirror_mode": {
    "name": "ipython",
    "version": 3
   },
   "file_extension": ".py",
   "mimetype": "text/x-python",
   "name": "python",
   "nbconvert_exporter": "python",
   "pygments_lexer": "ipython3",
   "version": "3.5.2"
  }
 },
 "nbformat": 4,
 "nbformat_minor": 1
}
